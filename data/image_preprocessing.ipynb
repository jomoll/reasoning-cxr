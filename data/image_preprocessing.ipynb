{
 "cells": [
  {
   "cell_type": "markdown",
   "id": "e51829c6",
   "metadata": {},
   "source": [
    "# Installation guide\n",
    "1. Move this file into the same folder as the 'keno_1000' data\n",
    "2. Download and install python3 https://www.python.org/downloads/\n",
    "3. Open Visual Studio Code and open this file\n",
    "4. Click on 'Run all', when prompted to choose a kernel, click on 'Python environments' and select the python version you installed\n",
    "5. Hope that the next two cells work becouse otherwise it will be more complicated\n",
    "6. Change file name in the last cell and run (upon iteration, you only have to run the last cell)"
   ]
  },
  {
   "cell_type": "code",
   "execution_count": 1,
   "id": "cd878ec4",
   "metadata": {},
   "outputs": [
    {
     "name": "stdout",
     "output_type": "stream",
     "text": [
      "Looking in links: /var/folders/7_/yw7l4yh94gxbn8trq0g3vhsw0000gn/T/tmpjdpf2bhz\n",
      "Requirement already satisfied: pip in /opt/homebrew/anaconda3/envs/medgemma/lib/python3.13/site-packages (25.1.1)\n",
      "pip 25.1.1 from /opt/homebrew/anaconda3/envs/medgemma/lib/python3.13/site-packages/pip (python 3.13)\n"
     ]
    }
   ],
   "source": [
    "!python -m ensurepip --upgrade\n",
    "!pip --version"
   ]
  },
  {
   "cell_type": "code",
   "execution_count": null,
   "id": "ac095763",
   "metadata": {},
   "outputs": [],
   "source": [
    "!pip install pillow numpy"
   ]
  },
  {
   "cell_type": "code",
   "execution_count": 28,
   "id": "c82347af",
   "metadata": {},
   "outputs": [],
   "source": [
    "## Rescale greyscale images to 0-255 range\n",
    "import os\n",
    "import sys\n",
    "import numpy as np\n",
    "from PIL import Image\n",
    "\n",
    "def get_min_max(image):\n",
    "    \"\"\"Get the minimum and maximum pixel values in the image.\"\"\"\n",
    "    return np.min(image), np.max(image)\n",
    "\n",
    "def rescale_png(input_path, output_path, target_bit_depth=8):\n",
    "    \"\"\"\n",
    "    Rescale a PNG image to a target bit depth.\n",
    "    Args:\n",
    "        input_path: Path to input image\n",
    "        output_path: Path to save output image\n",
    "        target_bit_depth: Desired bit depth (default 8)\n",
    "    \"\"\"\n",
    "    with Image.open(input_path) as img:\n",
    "        # Get the original bit depth\n",
    "        bit_depth = img.mode\n",
    "        print(f\"Original image mode: {bit_depth}\")\n",
    "        \n",
    "        # Convert to numpy array\n",
    "        img_array = np.array(img)\n",
    "        \n",
    "        # Get min and max pixel values\n",
    "        min_val, max_val = get_min_max(img_array)\n",
    "        print(f\"Min pixel value: {min_val}, Max pixel value: {max_val}\")\n",
    "        \n",
    "        # Calculate target max value based on bit depth\n",
    "        target_max = (2 ** target_bit_depth) - 1  # 255 for 8-bit\n",
    "        \n",
    "        # Rescale the image\n",
    "        if max_val - min_val > 0:  # Avoid division by zero\n",
    "            rescaled_array = (img_array - min_val) * (target_max / (max_val - min_val))\n",
    "            rescaled_array = np.clip(rescaled_array, 0, target_max).astype(np.uint8)\n",
    "        else:\n",
    "            rescaled_array = np.zeros_like(img_array, dtype=np.uint8)\n",
    "            \n",
    "        # Convert back to PIL Image\n",
    "        rescaled_img = Image.fromarray(rescaled_array)\n",
    "        \n",
    "        # Save with specific format and bit depth\n",
    "        rescaled_img.save(output_path, format='PNG', optimize=True)\n",
    "        \n",
    "        # Display the rescaled image \n",
    "        rescaled_img.show()\n",
    "\n",
    "        return rescaled_img"
   ]
  },
  {
   "cell_type": "code",
   "execution_count": null,
   "id": "e51fdcc1",
   "metadata": {},
   "outputs": [
    {
     "name": "stdout",
     "output_type": "stream",
     "text": [
      "Original image mode: I;16\n",
      "Min pixel value: 0, Max pixel value: 4095\n"
     ]
    }
   ],
   "source": [
    "image_path = 'keno_1000/data_png/0a000b841142f0763421a9e15f00bd6aff96e70e4c11baddd8ccb27990fc311c.png'\n",
    "taget_path = 'rescaled_image.png'\n",
    "image = rescale_png(image_path, taget_path, target_bit_depth=8)"
   ]
  }
 ],
 "metadata": {
  "kernelspec": {
   "display_name": "medgemma",
   "language": "python",
   "name": "python3"
  },
  "language_info": {
   "codemirror_mode": {
    "name": "ipython",
    "version": 3
   },
   "file_extension": ".py",
   "mimetype": "text/x-python",
   "name": "python",
   "nbconvert_exporter": "python",
   "pygments_lexer": "ipython3",
   "version": "3.13.3"
  }
 },
 "nbformat": 4,
 "nbformat_minor": 5
}
